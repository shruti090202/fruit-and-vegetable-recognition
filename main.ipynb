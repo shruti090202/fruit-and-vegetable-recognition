{
  "cells": [
    {
      "cell_type": "code",
      "execution_count": null,
      "metadata": {
        "id": "05z6rQSVXL4f"
      },
      "outputs": [],
      "source": [
        "from PIL import Image\n",
        "from keras.preprocessing.image import load_img, img_to_array\n",
        "import numpy as np\n",
        "from keras.models import load_model\n",
        "import requests\n",
        "from bs4 import BeautifulSoup\n",
        "import cv2\n",
        "from google.colab.patches import cv2_imshow\n",
        "from IPython.display import display\n",
        "from scipy.spatial import distance as dist\n",
        "from imutils import perspective\n",
        "from imutils import contours\n",
        "import imutils\n",
        "import argparse\n",
        "from scipy.spatial.distance import euclidean\n",
        "from imutils.perspective import four_point_transform"
      ]
    },
    {
      "cell_type": "code",
      "execution_count": null,
      "metadata": {
        "id": "fsWM6m9LXP3h"
      },
      "outputs": [],
      "source": [
        "model = load_model('/content/recognition.h5')"
      ]
    },
    {
      "cell_type": "code",
      "execution_count": null,
      "metadata": {
        "id": "Fv703L-UXRyR"
      },
      "outputs": [],
      "source": [
        "\n",
        "labels = {0: 'apple', 1: 'banana', 2: 'beetroot', 3: 'cabbage', 4: 'capsicum', 5: 'carrot',\n",
        "          6: 'cauliflower', 7: 'chilli pepper', 8: 'corn', 9: 'cucumber', 10: 'eggplant', 11: 'garlic', 12: 'ginger',\n",
        "          13: 'grapes', 14: 'guava' , 15: 'jalepeno', 16: 'kiwi', 17: 'lemon', 18: 'lettuce',\n",
        "          19: 'mango', 20: 'onion', 21: 'orange', 22: 'papaya', 23: 'paprika', 24: 'pear', 25: 'peas', 26: 'pineapple',\n",
        "          27: 'pomegranate', 28: 'potato', 29: 'raddish', 30: 'soy beans', 31: 'spinach', 32: 'sweetcorn',\n",
        "          33: 'sweetpotato', 34: 'tomato', 35: 'turnip', 36: 'watermelon'}\n",
        "\n",
        "fruits = ['Apple', 'Banana' , 'Chilli Pepper', 'Grapes', 'Guava' , 'Jalepeno', 'Kiwi', 'Lemon', 'Mango', 'Orange', 'Papaya' ,\n",
        "          'Paprika', 'Pear', 'Pineapple', 'Pomegranate', 'Watermelon']\n",
        "vegetables = ['Beetroot', 'Cabbage', 'Capsicum', 'Carrot', 'Cauliflower', 'Corn', 'Cucumber', 'Eggplant', 'Garlic' , 'Ginger',\n",
        "              'Lettuce', 'Onion', 'Peas', 'Potato', 'Raddish', 'Soy Beans', 'Spinach', 'Sweetcorn', 'Sweetpotato',\n",
        "              'Tomato', 'Turnip']\n"
      ]
    },
    {
      "cell_type": "code",
      "execution_count": null,
      "metadata": {
        "id": "yIQhPL3QXR78"
      },
      "outputs": [],
      "source": [
        "def fetch_calories(prediction):\n",
        "    try:\n",
        "        url = 'https://www.google.com/search?&q=calories in ' + prediction\n",
        "        req = requests.get(url).text\n",
        "        scrap = BeautifulSoup(req, 'html.parser')\n",
        "        calories = scrap.find(\"div\", class_=\"BNeawe iBp4i AP7Wnd\").text\n",
        "        return calories\n",
        "    except Exception as e:\n",
        "        print(e)\n"
      ]
    },
    {
      "cell_type": "code",
      "execution_count": null,
      "metadata": {
        "id": "WVU0Rg_yXR_a"
      },
      "outputs": [],
      "source": [
        "def prepare_image(img_path):\n",
        "  img = load_img(img_path, target_size=(224, 224, 3))\n",
        "  img = img_to_array(img)\n",
        "  img = img / 255\n",
        "  img = np.expand_dims(img, [0])\n",
        "  answer = model.predict(img)\n",
        "  y_class = answer.argmax(axis=-1)\n",
        "  y = int(y_class[0])\n",
        "  res = labels[y]\n",
        "  return res.capitalize()"
      ]
    },
    {
      "cell_type": "code",
      "execution_count": null,
      "metadata": {
        "id": "dEEcUkz4EskP"
      },
      "outputs": [],
      "source": [
        "def print_fresh(res):\n",
        "    threshold_fresh = 1.00\n",
        "    if res < threshold_fresh:\n",
        "        print(\"The item is FRESH!\")\n",
        "    else:\n",
        "        print(\"The item is ROTTEN!\")\n"
      ]
    },
    {
      "cell_type": "code",
      "execution_count": null,
      "metadata": {
        "id": "Fmaj7qjcEuFV"
      },
      "outputs": [],
      "source": [
        "\n",
        "def pre_proc_img(image_path):\n",
        "    img = cv2.imread(image_path)\n",
        "    img = cv2.resize(img, (100, 100))\n",
        "    img = cv2.cvtColor(img, cv2.COLOR_BGR2RGB)\n",
        "\n",
        "    img = img / 255.0\n",
        "    img = np.expand_dims(img, axis=0)\n",
        "    return img\n"
      ]
    },
    {
      "cell_type": "code",
      "execution_count": null,
      "metadata": {
        "id": "5NUml_1vEuQv"
      },
      "outputs": [],
      "source": [
        "def evaluate_rotten_vs_fresh(image_path):\n",
        "    model1 = load_model('/content/rottenvsfresh.h5')\n",
        "\n",
        "    prediction = model1.predict(pre_proc_img(image_path))\n",
        "\n",
        "    return prediction[0][0]\n"
      ]
    },
    {
      "cell_type": "code",
      "execution_count": null,
      "metadata": {
        "id": "QI3kdE3jsj_9"
      },
      "outputs": [],
      "source": [
        "def size_of_object(img_path):\n",
        "  image = cv2.imread(img_path)\n",
        "  if image is None:\n",
        "    print(\"Error: Unable to load image.\")\n",
        "  gray = cv2.cvtColor(image, cv2.COLOR_BGR2GRAY)\n",
        "  blur = cv2.GaussianBlur(gray, (9, 9), 0)\n",
        "  edged = cv2.Canny(blur, 50, 100)\n",
        "  edged = cv2.dilate(edged, None, iterations=1)\n",
        "  edged = cv2.erode(edged, None, iterations=1)\n",
        "\n",
        "  cnts = cv2.findContours(edged.copy(), cv2.RETR_EXTERNAL, cv2.CHAIN_APPROX_SIMPLE)\n",
        "  cnts = imutils.grab_contours(cnts)\n",
        "  (cnts, _) = contours.sort_contours(cnts)\n",
        "  cnts = [x for x in cnts if cv2.contourArea(x) > 100]\n",
        "\n",
        "  ref_object = cnts[0]\n",
        "  box = cv2.minAreaRect(ref_object)\n",
        "  box = cv2.boxPoints(box)\n",
        "  box = np.array(box, dtype=\"int\")\n",
        "  box = perspective.order_points(box)\n",
        "  (tl, tr, br, bl) = box\n",
        "  dist_in_pixel = euclidean(tl, tr)\n",
        "  dist_in_cm = 2\n",
        "  pixel_per_cm = dist_in_pixel/dist_in_cm\n",
        "\n",
        "  for cnt in cnts:\n",
        "    box = cv2.minAreaRect(cnt)\n",
        "    box = cv2.boxPoints(box)\n",
        "    box = np.array(box, dtype=\"int\")\n",
        "    box = perspective.order_points(box)\n",
        "    (tl, tr, br, bl) = box\n",
        "    cv2.drawContours(image, [box.astype(\"int\")], -1, (0, 0, 255), 2)\n",
        "    mid_pt_horizontal = (tl[0] + int(abs(tr[0] - tl[0])/2), tl[1] + int(abs(tr[1] - tl[1])/2))\n",
        "    mid_pt_verticle = (tr[0] + int(abs(tr[0] - br[0])/2), tr[1] + int(abs(tr[1] - br[1])/2))\n",
        "    wid = euclidean(tl, tr)/pixel_per_cm\n",
        "    ht = euclidean(tr, br)/pixel_per_cm\n",
        "    cv2.putText(image, \"{:.1f}cm\".format(wid), (int(mid_pt_horizontal[0] - 15), int(mid_pt_horizontal[1] - 10)),cv2.FONT_HERSHEY_SIMPLEX, 0.5, (255, 255, 0), 2)\n",
        "    cv2.putText(image, \"{:.1f}cm\".format(ht), (int(mid_pt_verticle[0] + 10), int(mid_pt_verticle[1])),cv2.FONT_HERSHEY_SIMPLEX, 0.5, (255, 255, 0), 2)\n",
        "  cv2_imshow(image)"
      ]
    },
    {
      "cell_type": "code",
      "execution_count": null,
      "metadata": {
        "id": "xjuwHicSXSEP"
      },
      "outputs": [],
      "source": [
        "def run():\n",
        "    print(\"Fruits🍍-Vegetable🍅 Classification\")\n",
        "    img_path = input(\"Enter the path to the image file: \")\n",
        "    img = Image.open(img_path).resize((250, 250))\n",
        "    display(img)\n",
        "    save_image_path = '/var/upload_images' + img_path.split('/')[-1]\n",
        "    img.save(save_image_path)\n",
        "    result = prepare_image(save_image_path)\n",
        "    if result in vegetables:\n",
        "        print('Category : Vegetables')\n",
        "    else:\n",
        "        print('Category : Fruit')\n",
        "    print(\"Predicted:\", result)\n",
        "    cal = fetch_calories(result)\n",
        "    if cal:\n",
        "        print(\"Calories: \" + cal)\n",
        "\n",
        "    is_rotten = evaluate_rotten_vs_fresh(img_path)\n",
        "    print(f'Prediction: {is_rotten}',print_fresh(is_rotten))\n",
        "    print(f\"\")\n",
        "    print(f\"Size:\")\n",
        "    size_of_object(img_path)"
      ]
    },
    {
      "cell_type": "code",
      "execution_count": null,
      "metadata": {
        "id": "YQeffP-fYLVj"
      },
      "outputs": [],
      "source": [
        "run()"
      ]
    }
  ],
  "metadata": {
    "colab": {
      "provenance": []
    },
    "kernelspec": {
      "display_name": "Python 3",
      "name": "python3"
    },
    "language_info": {
      "name": "python"
    }
  },
  "nbformat": 4,
  "nbformat_minor": 0
}